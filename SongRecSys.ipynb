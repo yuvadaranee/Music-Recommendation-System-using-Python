{
  "cells": [
    {
      "cell_type": "code",
      "execution_count": 34,
      "metadata": {
        "id": "_2djQPEFes_n"
      },
      "outputs": [],
      "source": [
        "import pandas as pd\n",
        "import numpy as np\n",
        "import matplotlib.pyplot as plt\n",
        "import seaborn as sns\n",
        "import warnings\n",
        "import random\n",
        "warnings.filterwarnings(\"ignore\", category=FutureWarning)\n",
        "from scipy.sparse import csr_matrix\n",
        "import os\n",
        "warnings.simplefilter(action = 'ignore', category=FutureWarning)\n",
        "warnings.filterwarnings('ignore')\n",
        "def ignore_warn(*args, **kwargs):\n",
        "    pass\n",
        "warnings.warn = ignore_warn\n",
        "from datetime import date\n",
        "import time\n",
        "import matplotlib.pyplot as plt; plt.rcdefaults()\n",
        "from sklearn.model_selection import train_test_split\n",
        "from scipy.sparse import coo_matrix\n",
        "import math as mt\n",
        "from scipy.sparse.linalg import *\n",
        "from scipy.sparse.linalg import svds\n",
        "from scipy.sparse import csc_matrix\n",
        "from scipy.stats import skew, norm, probplot\n"
      ]
    },
    {
      "cell_type": "code",
      "execution_count": 35,
      "metadata": {},
      "outputs": [],
      "source": [
        "date_components = input('Enter a date formatted as DD MM YYYY: ').split(' ')\n",
        "\n",
        "year, month, day = [int(item) for item in date_components]\n",
        "\n",
        "d = date(day,month,year)\n",
        "today = date.today()\n",
        "age=today.year-d.year"
      ]
    },
    {
      "cell_type": "code",
      "execution_count": 36,
      "metadata": {},
      "outputs": [],
      "source": [
        "#gender input\n",
        "gen=input(\"your gender :\")\n",
        "#gen='female'\n",
        "gen=gen.lower()"
      ]
    },
    {
      "cell_type": "code",
      "execution_count": 37,
      "metadata": {
        "id": "4LA8xYh3exgU"
      },
      "outputs": [],
      "source": [
        "#Read userid-songid-lstn_count\n",
        "user_song_itrx = pd.read_csv('C:/Users/Vincenzo/Desktop/pythonProject/10000.txt',sep='\\t', header=None)\n",
        "user_song_itrx.columns = ['user_id', 'song_id', 'lstn_count']\n",
        "\n",
        "#Read song  metadata\n",
        "song_data =  pd.read_csv('C:/Users/Vincenzo/Desktop/pythonProject/song_data.csv')\n",
        "song_data.drop_duplicates(['song_id'], inplace=True)\n",
        "\n",
        "#Merge the two dataframes\n",
        "songs = pd.merge(user_song_itrx, song_data, on=\"song_id\", how=\"left\")"
      ]
    },
    {
      "cell_type": "code",
      "execution_count": 38,
      "metadata": {},
      "outputs": [],
      "source": [
        "a=pd.DataFrame(user_song_itrx.user_id)\n",
        "a=a.drop_duplicates('user_id')"
      ]
    },
    {
      "cell_type": "code",
      "execution_count": 39,
      "metadata": {},
      "outputs": [],
      "source": [
        "mylist = [\"male\", \"female\"]\n",
        "m=[]\n",
        "\n",
        "for i in range(76353):\n",
        "\n",
        "    h=np.random.choice(mylist)\n",
        "    m.append(h)"
      ]
    },
    {
      "cell_type": "code",
      "execution_count": 40,
      "metadata": {},
      "outputs": [],
      "source": [
        "\n",
        "a['Gender']=m\n",
        "a['Age']=np.random.randint(15,50, size=a.shape[0])"
      ]
    },
    {
      "cell_type": "code",
      "execution_count": 41,
      "metadata": {},
      "outputs": [],
      "source": [
        "user_song_itrx=pd.merge(user_song_itrx,a, on =('user_id'), how = \"inner\")\n"
      ]
    },
    {
      "cell_type": "code",
      "execution_count": 43,
      "metadata": {},
      "outputs": [
        {
          "data": {
            "text/plain": [
              "1704273"
            ]
          },
          "execution_count": 43,
          "metadata": {},
          "output_type": "execute_result"
        }
      ],
      "source": [
        "df_select = a[(a.Gender == gen) & (a.Age == age)]\n",
        "\n",
        "lent=len(df_select)\n",
        "\n",
        "sed=np.random.randint(lent)\n",
        "\n",
        "yd=df_select.iloc[sed]\n",
        "\n",
        "yd=pd.DataFrame(yd)\n",
        "\n",
        "p=yd.columns\n",
        "\n",
        "p=p[0]\n",
        "p\n"
      ]
    },
    {
      "cell_type": "code",
      "execution_count": 10,
      "metadata": {
        "id": "NKWGAK-hezIj"
      },
      "outputs": [],
      "source": [
        "songs.to_csv('songs.csv', index=False)\n",
        "df_all_songs = pd.read_csv('songs.csv')"
      ]
    },
    {
      "cell_type": "code",
      "execution_count": 11,
      "metadata": {
        "id": "hWNflpQdfBdb"
      },
      "outputs": [],
      "source": [
        "#number of songs each user has lstned\n",
        "song_user = songs.groupby('user_id')['song_id'].count()\n",
        "\n",
        "#users which have lstn to at least 16 songs\n",
        "song_ten_id = song_user[song_user > 16].index.to_list()\n",
        "\n",
        "#keep only those users with more than 16 lstned\n",
        "df_song_id_more_ten = songs[songs['user_id'].isin(song_ten_id)].reset_index(drop=True)"
      ]
    },
    {
      "cell_type": "code",
      "execution_count": 12,
      "metadata": {
        "colab": {
          "base_uri": "https://localhost:8080/",
          "height": 331
        },
        "id": "TSxwNZhffDhg",
        "outputId": "40eefcd8-8303-480a-b18e-088bf8483bd8"
      },
      "outputs": [],
      "source": [
        "#dataframe into a pivot table\n",
        "df_all_songs_features = df_song_id_more_ten.pivot(index='song_id', columns='user_id', values='lstn_count').fillna(0)\n",
        "\n",
        "#sparse matrix\n",
        "mat_songs_features = csr_matrix(df_all_songs_features.values)\n",
        "\n"
      ]
    },
    {
      "cell_type": "code",
      "execution_count": 13,
      "metadata": {},
      "outputs": [],
      "source": [
        "# No of unique songs - SVD\n",
        "unique_track_metadata_df=song_data.groupby('song_id').max().reset_index()\n"
      ]
    },
    {
      "cell_type": "code",
      "execution_count": 14,
      "metadata": {},
      "outputs": [],
      "source": [
        "# Dataset generation - SVD\n",
        "user_song_list_count = pd.merge(user_song_itrx, \n",
        "                                unique_track_metadata_df, how='left',on='song_id')\n",
        "user_song_list_count.rename(columns={'play_count':'lstn_count'},inplace=True)\n"
      ]
    },
    {
      "cell_type": "code",
      "execution_count": 15,
      "metadata": {},
      "outputs": [],
      "source": [
        "# Generation of fractional count - SVD\n",
        "user_song_list_lstn =user_song_list_count[['user_id','lstn_count']].groupby('user_id').sum().reset_index()\n",
        "user_song_list_lstn.rename(columns={'lstn_count':'total_lstn_count'},inplace=True)\n",
        "user_song_list_count_mrgd = pd.merge(user_song_list_count,user_song_list_lstn)\n",
        "user_song_list_count_mrgd['fractional_play_count'] = \\\n",
        "    user_song_list_count_mrgd['lstn_count']/user_song_list_count_mrgd['total_lstn_count']\n",
        "\n"
      ]
    },
    {
      "cell_type": "code",
      "execution_count": 46,
      "metadata": {},
      "outputs": [],
      "source": [
        "# index for unique data - SVD\n",
        "user_codes = user_song_list_count_mrgd.user_id.drop_duplicates().reset_index()\n",
        "user_codes.rename(columns={'index':'user_index'}, inplace=True)\n",
        "user_codes['us_index_value'] = list(user_codes.index)\n",
        "\n",
        "song_codes = user_song_list_count_mrgd.song_id.drop_duplicates().reset_index()\n",
        "song_codes.rename(columns={'index':'song_index'}, inplace=True)\n",
        "song_codes['so_index_value'] = list(song_codes.index)\n",
        "\n",
        "small_set = pd.merge(user_song_list_count_mrgd,song_codes,how='left')\n",
        "small_set = pd.merge(small_set,user_codes,how='left')\n",
        "mat_candidate = small_set[['us_index_value','so_index_value','fractional_play_count']]\n",
        "li=mat_candidate['us_index_value'][p]\n",
        "\n"
      ]
    },
    {
      "cell_type": "code",
      "execution_count": 17,
      "metadata": {},
      "outputs": [],
      "source": [
        "# sparse matrix generation\n",
        "data_array = mat_candidate.fractional_play_count.values\n",
        "row_array = mat_candidate.us_index_value.values\n",
        "col_array = mat_candidate.so_index_value.values\n",
        "\n",
        "data_sparse = coo_matrix((data_array, (row_array, col_array)),dtype=float)"
      ]
    },
    {
      "cell_type": "code",
      "execution_count": 18,
      "metadata": {
        "id": "fRyj9xC6fINp"
      },
      "outputs": [],
      "source": [
        "#1st model for comparision"
      ]
    },
    {
      "cell_type": "code",
      "execution_count": 19,
      "metadata": {
        "id": "2AkAvrppfJjj"
      },
      "outputs": [],
      "source": [
        "\n",
        "#Item similarity based Recommender\n",
        "class item_rec_sys():\n",
        "    def __init__(self):\n",
        "        self.train_data = None\n",
        "        self.user_id = None\n",
        "        self.item_id = None\n",
        "        self.coocc_matrix = None\n",
        "        self.songs_dict = None\n",
        "        self.rev_songs_dict = None\n",
        "        self.item_similarity_rec = None\n",
        "        \n",
        "    #unique songs corresponding to a given user\n",
        "    def get_usersongs(self, user):\n",
        "        user_data = self.train_data[self.train_data[self.user_id] == user]\n",
        "        user_items = list(user_data[self.item_id].unique())\n",
        "        \n",
        "        return user_items\n",
        "        \n",
        "    #unique users for a given song\n",
        "    def get_songusers(self, item):\n",
        "        item_data = self.train_data[self.train_data[self.item_id] == item]\n",
        "        item_users = set(item_data[self.user_id].unique())\n",
        "            \n",
        "        return item_users\n",
        "        \n",
        "    #unique songs in the training data\n",
        "    def get_uniquesong_traindata(self):\n",
        "        all_items = list(self.train_data[self.item_id].unique())\n",
        "            \n",
        "        return all_items\n",
        "        \n",
        "    #cooccurence matrix\n",
        "    def const_coocc_matrix(self, user_songs, all_songs):\n",
        "            \n",
        "        #users for all songs in user_songs.\n",
        "        user_songs_users = []        \n",
        "        for i in range(0, len(user_songs)):\n",
        "            user_songs_users.append(self.get_songusers(user_songs[i]))\n",
        "            \n",
        "        #Initialize the item cooccurence matrix of size \n",
        "        coocc_matrix = np.matrix(np.zeros(shape=(len(user_songs), len(all_songs))), float)\n",
        "           \n",
        "        #Calculate similarity b/w user songs and all unique songs in the training data\n",
        "        for i in range(0,len(all_songs)):\n",
        "            #Calculate unique lstners (users) of song (item) i\n",
        "            songs_i_data = self.train_data[self.train_data[self.item_id] == all_songs[i]]\n",
        "            users_i = set(songs_i_data[self.user_id].unique())\n",
        "            \n",
        "            for j in range(0,len(user_songs)):       \n",
        "                    \n",
        "                #unique users of song j\n",
        "                users_j = user_songs_users[j]\n",
        "                    \n",
        "                #intersection of lstners of songs i and j\n",
        "                users_intersection = users_i.intersection(users_j)\n",
        "                \n",
        "                #coocc_matrix[i,j] as Jaccard Index\n",
        "                if len(users_intersection) != 0:\n",
        "                    #union of lstners of songs i and j\n",
        "                    users_union = users_i.union(users_j)\n",
        "                    \n",
        "                    coocc_matrix[j,i] = float(len(users_intersection))/float(len(users_union))\n",
        "                else:\n",
        "                    coocc_matrix[j,i] = 0\n",
        "                    \n",
        "        \n",
        "        return coocc_matrix\n",
        "\n",
        "    \n",
        "    #cooccurence matrix to make top rec\n",
        "    def gen_top_rec(self, user, coocc_matrix, all_songs, user_songs):\n",
        "        print(\"Non zero values in coocc_matrix :%d\" % np.count_nonzero(coocc_matrix))\n",
        "        \n",
        "        #weighted average of the scores in cooccurence matrix for all user songs.\n",
        "        user_sim_scores = coocc_matrix.sum(axis=0)/float(coocc_matrix.shape[0])\n",
        "        user_sim_scores = np.array(user_sim_scores)[0].tolist()\n",
        " \n",
        "        #Sort the indices of user_sim_scores based upon their value & maintain the corresponding score\n",
        "        sort_index = sorted(((e,i) for i,e in enumerate(list(user_sim_scores))), reverse=True)\n",
        "    \n",
        "        #Create dataframe \n",
        "        columns = ['user_id', 'song', 'score', 'rank']\n",
        "        df = pd.DataFrame(columns=columns)\n",
        "         \n",
        "        #dataframe with top 10 item based rec\n",
        "        rank = 1 \n",
        "        for i in range(0,len(sort_index)):\n",
        "            if ~np.isnan(sort_index[i][0]) and all_songs[sort_index[i][1]] not in user_songs and rank <= 10:\n",
        "                df.loc[len(df)]=[user,all_songs[sort_index[i][1]],sort_index[i][0],rank]\n",
        "                rank = rank+1\n",
        "        \n",
        "        #case where there are no rec\n",
        "        if df.shape[0] == 0:\n",
        "            print(\"The current user has no songs for training the item similarity based recommendation model.\")\n",
        "            return -1\n",
        "        else:\n",
        "            return df\n",
        " \n",
        "    #item similarity based rec sys model\n",
        "    def create(self, train_data, user_id, item_id):\n",
        "        self.train_data = train_data\n",
        "        self.user_id = user_id\n",
        "        self.item_id = item_id\n",
        "\n",
        "    #item similarity based rec sys model to make rec\n",
        "    def recommend(self, user):\n",
        "        \n",
        "        #A.unique songs for this user\n",
        "        user_songs = self.get_usersongs(user)    \n",
        "            \n",
        "        #print(\"No. of unique songs for the user: %d\" % len(user_songs))\n",
        "        \n",
        "        #B. unique songs in the training data\n",
        "        all_songs = self.get_uniquesong_traindata()\n",
        "        \n",
        "       # print(\"no. of unique songs in the training set: %d\" % len(all_songs))\n",
        "         \n",
        "        #C.cooccurence matrix of size \n",
        "        coocc_matrix = self.const_coocc_matrix(user_songs, all_songs)\n",
        "        \n",
        "        #D.cooccurence matrix to make rec\n",
        "        df_rec = self.gen_top_rec(user, coocc_matrix, all_songs, user_songs)\n",
        "                \n",
        "        return df_rec\n",
        "    \n",
        "    #similar items to given items\n",
        "    def get_sim_items(self, item_list):\n",
        "        \n",
        "        user_songs = item_list\n",
        "        \n",
        "        #B.unique items songs in the training data\n",
        "        all_songs = self.get_uniquesong_traindata()\n",
        "        \n",
        "        #print(\"no. of unique songs in the training set: %d\" % len(all_songs))\n",
        "         \n",
        "        #C.cooccurence matrix of size \n",
        "        coocc_matrix = self.const_coocc_matrix(user_songs, all_songs)\n",
        "        \n",
        "        #D.cooccurence matrix to make rec\n",
        "        user = \"\"\n",
        "        df_rec = self.gen_top_rec(user, coocc_matrix, all_songs, user_songs)\n",
        "         \n",
        "        return df_rec"
      ]
    },
    {
      "cell_type": "code",
      "execution_count": 55,
      "metadata": {
        "colab": {
          "base_uri": "https://localhost:8080/",
          "height": 415
        },
        "id": "cf-Us-vmfKT3",
        "outputId": "d3b344b3-938e-434d-d0fb-5738bec58525"
      },
      "outputs": [
        {
          "name": "stdout",
          "output_type": "stream",
          "text": [
            "Non zero values in coocc_matrix :10268\n"
          ]
        },
        {
          "data": {
            "text/html": [
              "<div>\n",
              "<style scoped>\n",
              "    .dataframe tbody tr th:only-of-type {\n",
              "        vertical-align: middle;\n",
              "    }\n",
              "\n",
              "    .dataframe tbody tr th {\n",
              "        vertical-align: top;\n",
              "    }\n",
              "\n",
              "    .dataframe thead th {\n",
              "        text-align: right;\n",
              "    }\n",
              "</style>\n",
              "<table border=\"1\" class=\"dataframe\">\n",
              "  <thead>\n",
              "    <tr style=\"text-align: right;\">\n",
              "      <th></th>\n",
              "      <th>user_id</th>\n",
              "      <th>song</th>\n",
              "      <th>score</th>\n",
              "      <th>rank</th>\n",
              "    </tr>\n",
              "  </thead>\n",
              "  <tbody>\n",
              "    <tr>\n",
              "      <th>0</th>\n",
              "      <td>7f3ade976d66dcb0c1aaed63beaa1d3b7ec1e7da</td>\n",
              "      <td>Puto</td>\n",
              "      <td>0.083602</td>\n",
              "      <td>1</td>\n",
              "    </tr>\n",
              "    <tr>\n",
              "      <th>1</th>\n",
              "      <td>7f3ade976d66dcb0c1aaed63beaa1d3b7ec1e7da</td>\n",
              "      <td>Sonne</td>\n",
              "      <td>0.070559</td>\n",
              "      <td>2</td>\n",
              "    </tr>\n",
              "    <tr>\n",
              "      <th>2</th>\n",
              "      <td>7f3ade976d66dcb0c1aaed63beaa1d3b7ec1e7da</td>\n",
              "      <td>Ich Will</td>\n",
              "      <td>0.069520</td>\n",
              "      <td>3</td>\n",
              "    </tr>\n",
              "    <tr>\n",
              "      <th>3</th>\n",
              "      <td>7f3ade976d66dcb0c1aaed63beaa1d3b7ec1e7da</td>\n",
              "      <td>Voto Latino</td>\n",
              "      <td>0.069318</td>\n",
              "      <td>4</td>\n",
              "    </tr>\n",
              "  </tbody>\n",
              "</table>\n",
              "</div>"
            ],
            "text/plain": [
              "                                    user_id         song     score  rank\n",
              "0  7f3ade976d66dcb0c1aaed63beaa1d3b7ec1e7da         Puto  0.083602     1\n",
              "1  7f3ade976d66dcb0c1aaed63beaa1d3b7ec1e7da        Sonne  0.070559     2\n",
              "2  7f3ade976d66dcb0c1aaed63beaa1d3b7ec1e7da     Ich Will  0.069520     3\n",
              "3  7f3ade976d66dcb0c1aaed63beaa1d3b7ec1e7da  Voto Latino  0.069318     4"
            ]
          },
          "execution_count": 55,
          "metadata": {},
          "output_type": "execute_result"
        }
      ],
      "source": [
        "ir = item_rec_sys()\n",
        "ir.create(df_all_songs, 'user_id', 'title')\n",
        "user_items = ir.get_usersongs(df_all_songs['user_id'][p])\n",
        "x=ir.recommend(df_all_songs['user_id'][p])\n",
        "mod_1=x[:4]\n",
        "mod_1"
      ]
    },
    {
      "cell_type": "code",
      "execution_count": 56,
      "metadata": {},
      "outputs": [],
      "source": [
        "mod_1=mod_1.rename({'song':'Song'}, axis='columns')"
      ]
    },
    {
      "cell_type": "code",
      "execution_count": 22,
      "metadata": {
        "id": "5cqv9uJSfPm8"
      },
      "outputs": [],
      "source": [
        "#2nd model for comparision"
      ]
    },
    {
      "cell_type": "code",
      "execution_count": 23,
      "metadata": {
        "id": "-ZWC9XyjfRUj"
      },
      "outputs": [],
      "source": [
        "class pop_rec_sys():\n",
        "    def __init__(self):\n",
        "        self.train_data = None\n",
        "        self.user_id = None\n",
        "        self.item_id = None\n",
        "        self.popularity_rec = None\n",
        "        \n",
        "    #popularity based recommender\n",
        "    def create(self, train_data, user_id, item_id):\n",
        "        self.train_data = train_data\n",
        "        self.user_id = user_id\n",
        "        self.item_id = item_id\n",
        "\n",
        "        #count of user_ids for each unique song as recommendation score\n",
        "        train_data_grouped = train_data.groupby([self.item_id]).agg({self.user_id: 'count'}).reset_index()\n",
        "        train_data_grouped.rename(columns = {'user_id': 'score'},inplace=True)\n",
        "    \n",
        "        #Sort the songs based upon recommendation score\n",
        "        train_data_sort = train_data_grouped.sort_values(['score', self.item_id], ascending = [0,1])\n",
        "    \n",
        "        #Generate a recommendation rank based upon score\n",
        "        train_data_sort['Rank'] = train_data_sort['score'].rank(ascending=0, method='first')\n",
        "        \n",
        "        #top 10 rec\n",
        "        self.popularity_rec = train_data_sort.head(10)\n",
        "\n",
        "    #Use the popularity based rec sys model to\n",
        "    #make rec\n",
        "    def recommend(self, user_id):    \n",
        "        user_rec = self.popularity_rec\n",
        "        \n",
        "        #Add user_id column for which the rec are being generated\n",
        "        user_rec['user_id'] = user_id\n",
        "    \n",
        "        #Bring user_id column to the front\n",
        "        cols = user_rec.columns.tolist()\n",
        "        cols = cols[-1:] + cols[:-1]\n",
        "        user_rec = user_rec[cols]\n",
        "        \n",
        "        return user_rec"
      ]
    },
    {
      "cell_type": "code",
      "execution_count": 57,
      "metadata": {
        "colab": {
          "base_uri": "https://localhost:8080/",
          "height": 363
        },
        "id": "TJZ_PicSfTIb",
        "outputId": "90ebde1e-9858-4e23-ec46-ca51a125ddf8"
      },
      "outputs": [
        {
          "data": {
            "text/html": [
              "<div>\n",
              "<style scoped>\n",
              "    .dataframe tbody tr th:only-of-type {\n",
              "        vertical-align: middle;\n",
              "    }\n",
              "\n",
              "    .dataframe tbody tr th {\n",
              "        vertical-align: top;\n",
              "    }\n",
              "\n",
              "    .dataframe thead th {\n",
              "        text-align: right;\n",
              "    }\n",
              "</style>\n",
              "<table border=\"1\" class=\"dataframe\">\n",
              "  <thead>\n",
              "    <tr style=\"text-align: right;\">\n",
              "      <th></th>\n",
              "      <th>user_id</th>\n",
              "      <th>title</th>\n",
              "      <th>score</th>\n",
              "      <th>Rank</th>\n",
              "    </tr>\n",
              "  </thead>\n",
              "  <tbody>\n",
              "    <tr>\n",
              "      <th>6836</th>\n",
              "      <td>7f3ade976d66dcb0c1aaed63beaa1d3b7ec1e7da</td>\n",
              "      <td>Sehr kosmisch</td>\n",
              "      <td>8277</td>\n",
              "      <td>1.0</td>\n",
              "    </tr>\n",
              "    <tr>\n",
              "      <th>8725</th>\n",
              "      <td>7f3ade976d66dcb0c1aaed63beaa1d3b7ec1e7da</td>\n",
              "      <td>Undo</td>\n",
              "      <td>7032</td>\n",
              "      <td>2.0</td>\n",
              "    </tr>\n",
              "    <tr>\n",
              "      <th>1964</th>\n",
              "      <td>7f3ade976d66dcb0c1aaed63beaa1d3b7ec1e7da</td>\n",
              "      <td>Dog Days Are Over (Radio Edit)</td>\n",
              "      <td>6949</td>\n",
              "      <td>3.0</td>\n",
              "    </tr>\n",
              "    <tr>\n",
              "      <th>9496</th>\n",
              "      <td>7f3ade976d66dcb0c1aaed63beaa1d3b7ec1e7da</td>\n",
              "      <td>You're The One</td>\n",
              "      <td>6729</td>\n",
              "      <td>4.0</td>\n",
              "    </tr>\n",
              "  </tbody>\n",
              "</table>\n",
              "</div>"
            ],
            "text/plain": [
              "                                       user_id  \\\n",
              "6836  7f3ade976d66dcb0c1aaed63beaa1d3b7ec1e7da   \n",
              "8725  7f3ade976d66dcb0c1aaed63beaa1d3b7ec1e7da   \n",
              "1964  7f3ade976d66dcb0c1aaed63beaa1d3b7ec1e7da   \n",
              "9496  7f3ade976d66dcb0c1aaed63beaa1d3b7ec1e7da   \n",
              "\n",
              "                               title  score  Rank  \n",
              "6836                   Sehr kosmisch   8277   1.0  \n",
              "8725                            Undo   7032   2.0  \n",
              "1964  Dog Days Are Over (Radio Edit)   6949   3.0  \n",
              "9496                  You're The One   6729   4.0  "
            ]
          },
          "execution_count": 57,
          "metadata": {},
          "output_type": "execute_result"
        }
      ],
      "source": [
        "pr = pop_rec_sys()\n",
        "pr.create(df_all_songs, 'user_id', 'title')\n",
        "y = pr.recommend(df_all_songs['user_id'][p])\n",
        "mod_2=y[:4]\n",
        "mod_2\n"
      ]
    },
    {
      "cell_type": "code",
      "execution_count": 58,
      "metadata": {},
      "outputs": [],
      "source": [
        "mod_2=mod_2.rename({'title':'Song'}, axis='columns')"
      ]
    },
    {
      "cell_type": "code",
      "execution_count": 26,
      "metadata": {},
      "outputs": [],
      "source": [
        "# 3rd model for comparision - SVD"
      ]
    },
    {
      "cell_type": "code",
      "execution_count": 27,
      "metadata": {
        "id": "tpEEnTyJbmKr"
      },
      "outputs": [],
      "source": [
        "def calc_svd(urm, K):\n",
        "    U, s, Vt = svds(urm, K)\n",
        "\n",
        "    dim = (len(s), len(s))\n",
        "    S = np.zeros(dim, dtype=np.float32)\n",
        "    for i in range(0, len(s)):\n",
        "        S[i,i] = mt.sqrt(s[i])\n",
        "\n",
        "    U = csc_matrix(U, dtype=np.float32)\n",
        "    S = csc_matrix(S, dtype=np.float32)\n",
        "    Vt = csc_matrix(Vt, dtype=np.float32)\n",
        "    \n",
        "    return U, S, Vt\n",
        "def calc_est_matrix(urm, U, S, Vt, uTest, K, test):\n",
        "    rightTerm = S*Vt \n",
        "    max_recommendation = 250\n",
        "    estimatedRatings = np.zeros(shape=(MAX_UID, MAX_PID), dtype=np.float16)\n",
        "    recomendRatings = np.zeros(shape=(MAX_UID,max_recommendation ), dtype=np.float16)\n",
        "    for userTest in uTest:\n",
        "        prod = U[userTest, :]*rightTerm\n",
        "        estimatedRatings[userTest, :] = prod.todense()\n",
        "        recomendRatings[userTest, :] = (-estimatedRatings[userTest, :]).argsort()[:max_recommendation]\n",
        "    return recomendRatings\n",
        "\n",
        "def show_rec(uTest, num_recomendations = 10):\n",
        "    d=[]\n",
        "    e=[]\n",
        "    for user_id in uTest:\n",
        "        #print('-'*70)\n",
        "        #print(\"Recommendation for user id {}\".format(user_id))\n",
        "        rank_value = 1\n",
        "        i = 0\n",
        "        while (rank_value <  num_recomendations + 1):\n",
        "            so = uTest_recommended_items[user_id,i:i+1][0]\n",
        "            if (small_set.user_id[(small_set.so_index_value == so) & (small_set.us_index_value == user_id)].count()==0):\n",
        "                song_details = small_set[(small_set.so_index_value == so)].\\\n",
        "                    drop_duplicates('so_index_value')[['title','artist_name']]\n",
        "                \n",
        "                #print(\"The number {} recommended song is {} BY {}\".format(rank_value, list(song_details['title'])[0],list(song_details['artist_name'])[0]))\n",
        "                \n",
        "                c=list(song_details['title'])[0]\n",
        "                v=c\n",
        "                d.append(v)\n",
        "                e.append(rank_value)\n",
        "                rank_value+=1\n",
        "            i += 1\n",
        "        \n",
        "    return d,e\n",
        "    \n",
        "    "
      ]
    },
    {
      "cell_type": "code",
      "execution_count": 47,
      "metadata": {
        "colab": {
          "base_uri": "https://localhost:8080/"
        },
        "id": "2G_kgbjDeP7k",
        "outputId": "568ff449-a8dc-4064-b49a-45c331d45d0a"
      },
      "outputs": [],
      "source": [
        "K=50\n",
        "urm = data_sparse\n",
        "MAX_PID = urm.shape[1]\n",
        "MAX_UID = urm.shape[0]\n",
        "\n",
        "U, S, Vt = calc_svd(urm, K)\n",
        "uTest = [li]\n",
        "\n",
        "uTest_recommended_items = calc_est_matrix(urm, U, S, Vt, uTest, K, True)\n",
        "\n",
        "d,e=show_rec(uTest)\n",
        "\n"
      ]
    },
    {
      "cell_type": "code",
      "execution_count": 60,
      "metadata": {},
      "outputs": [
        {
          "data": {
            "text/html": [
              "<div>\n",
              "<style scoped>\n",
              "    .dataframe tbody tr th:only-of-type {\n",
              "        vertical-align: middle;\n",
              "    }\n",
              "\n",
              "    .dataframe tbody tr th {\n",
              "        vertical-align: top;\n",
              "    }\n",
              "\n",
              "    .dataframe thead th {\n",
              "        text-align: right;\n",
              "    }\n",
              "</style>\n",
              "<table border=\"1\" class=\"dataframe\">\n",
              "  <thead>\n",
              "    <tr style=\"text-align: right;\">\n",
              "      <th></th>\n",
              "      <th>Song</th>\n",
              "      <th>Rank</th>\n",
              "    </tr>\n",
              "  </thead>\n",
              "  <tbody>\n",
              "    <tr>\n",
              "      <th>0</th>\n",
              "      <td>Crossfire</td>\n",
              "      <td>1</td>\n",
              "    </tr>\n",
              "    <tr>\n",
              "      <th>1</th>\n",
              "      <td>Sample Track 2</td>\n",
              "      <td>2</td>\n",
              "    </tr>\n",
              "    <tr>\n",
              "      <th>2</th>\n",
              "      <td>Creep (Explicit)</td>\n",
              "      <td>3</td>\n",
              "    </tr>\n",
              "    <tr>\n",
              "      <th>3</th>\n",
              "      <td>All Summer Long (Album Version)</td>\n",
              "      <td>4</td>\n",
              "    </tr>\n",
              "  </tbody>\n",
              "</table>\n",
              "</div>"
            ],
            "text/plain": [
              "                              Song  Rank\n",
              "0                        Crossfire     1\n",
              "1                   Sample Track 2     2\n",
              "2                 Creep (Explicit)     3\n",
              "3  All Summer Long (Album Version)     4"
            ]
          },
          "execution_count": 60,
          "metadata": {},
          "output_type": "execute_result"
        }
      ],
      "source": [
        "# Create DataFrame  \n",
        "df = pd.DataFrame() \n",
        "df['Song'] = d\n",
        "df['Rank']= e\n",
        "\n",
        "mod_3=df[:4]\n",
        "mod_3"
      ]
    },
    {
      "cell_type": "code",
      "execution_count": 61,
      "metadata": {},
      "outputs": [
        {
          "data": {
            "text/html": [
              "<div>\n",
              "<style scoped>\n",
              "    .dataframe tbody tr th:only-of-type {\n",
              "        vertical-align: middle;\n",
              "    }\n",
              "\n",
              "    .dataframe tbody tr th {\n",
              "        vertical-align: top;\n",
              "    }\n",
              "\n",
              "    .dataframe thead th {\n",
              "        text-align: right;\n",
              "    }\n",
              "</style>\n",
              "<table border=\"1\" class=\"dataframe\">\n",
              "  <thead>\n",
              "    <tr style=\"text-align: right;\">\n",
              "      <th></th>\n",
              "      <th>Songs</th>\n",
              "    </tr>\n",
              "  </thead>\n",
              "  <tbody>\n",
              "    <tr>\n",
              "      <th>0</th>\n",
              "      <td>Puto</td>\n",
              "    </tr>\n",
              "    <tr>\n",
              "      <th>1</th>\n",
              "      <td>Sonne</td>\n",
              "    </tr>\n",
              "    <tr>\n",
              "      <th>2</th>\n",
              "      <td>Ich Will</td>\n",
              "    </tr>\n",
              "    <tr>\n",
              "      <th>3</th>\n",
              "      <td>Voto Latino</td>\n",
              "    </tr>\n",
              "    <tr>\n",
              "      <th>6836</th>\n",
              "      <td>Sehr kosmisch</td>\n",
              "    </tr>\n",
              "    <tr>\n",
              "      <th>8725</th>\n",
              "      <td>Undo</td>\n",
              "    </tr>\n",
              "    <tr>\n",
              "      <th>1964</th>\n",
              "      <td>Dog Days Are Over (Radio Edit)</td>\n",
              "    </tr>\n",
              "    <tr>\n",
              "      <th>9496</th>\n",
              "      <td>You're The One</td>\n",
              "    </tr>\n",
              "    <tr>\n",
              "      <th>0</th>\n",
              "      <td>Crossfire</td>\n",
              "    </tr>\n",
              "    <tr>\n",
              "      <th>1</th>\n",
              "      <td>Sample Track 2</td>\n",
              "    </tr>\n",
              "    <tr>\n",
              "      <th>2</th>\n",
              "      <td>Creep (Explicit)</td>\n",
              "    </tr>\n",
              "    <tr>\n",
              "      <th>3</th>\n",
              "      <td>All Summer Long (Album Version)</td>\n",
              "    </tr>\n",
              "  </tbody>\n",
              "</table>\n",
              "</div>"
            ],
            "text/plain": [
              "                                Songs\n",
              "0                                Puto\n",
              "1                               Sonne\n",
              "2                            Ich Will\n",
              "3                         Voto Latino\n",
              "6836                    Sehr kosmisch\n",
              "8725                             Undo\n",
              "1964   Dog Days Are Over (Radio Edit)\n",
              "9496                   You're The One\n",
              "0                           Crossfire\n",
              "1                      Sample Track 2\n",
              "2                    Creep (Explicit)\n",
              "3     All Summer Long (Album Version)"
            ]
          },
          "execution_count": 61,
          "metadata": {},
          "output_type": "execute_result"
        }
      ],
      "source": [
        "recc = pd.concat([mod_1,mod_2,mod_3])\n",
        "rec_songs=recc['Song']\n",
        "\n",
        "result=pd.DataFrame()\n",
        "result['Songs']=rec_songs\n",
        "\n",
        "result"
      ]
    }
  ],
  "metadata": {
    "colab": {
      "collapsed_sections": [],
      "provenance": []
    },
    "kernelspec": {
      "display_name": "Python 3.10.8 64-bit",
      "language": "python",
      "name": "python3"
    },
    "language_info": {
      "codemirror_mode": {
        "name": "ipython",
        "version": 3
      },
      "file_extension": ".py",
      "mimetype": "text/x-python",
      "name": "python",
      "nbconvert_exporter": "python",
      "pygments_lexer": "ipython3",
      "version": "3.10.8 (tags/v3.10.8:aaaf517, Oct 11 2022, 16:50:30) [MSC v.1933 64 bit (AMD64)]"
    },
    "vscode": {
      "interpreter": {
        "hash": "d66514931e7155151da89e10d57cf0d0834b728b1e33f2c8c629ad9592ff2829"
      }
    }
  },
  "nbformat": 4,
  "nbformat_minor": 0
}
